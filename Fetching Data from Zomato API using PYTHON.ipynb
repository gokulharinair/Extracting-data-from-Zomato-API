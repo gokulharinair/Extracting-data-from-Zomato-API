{
 "cells": [
  {
   "cell_type": "code",
   "execution_count": 1,
   "metadata": {},
   "outputs": [],
   "source": [
    "import json\n",
    "import requests"
   ]
  },
  {
   "cell_type": "markdown",
   "metadata": {},
   "source": [
    "# 1. Fetching Cuisine related Data"
   ]
  },
  {
   "cell_type": "code",
   "execution_count": 2,
   "metadata": {},
   "outputs": [
    {
     "name": "stdout",
     "output_type": "stream",
     "text": [
      "Cuisine ID for Mexican style: 73\n"
     ]
    }
   ],
   "source": [
    "#fetching cuisine id of mexican cuisine in Connaught Place, New Delhi\n",
    "#cuisine id of any place and any cuisine type can be searched, just need to pass the latitude and longitude values of the required space and search for the cuisine id/name\n",
    "headers={'user-key' : 'User_key_generated_on_site', \"Accept\": \"application/json\", 'User-Agent':'Your_Name'}\n",
    "params={'city_id':1}\n",
    "response = requests.get('https://developers.zomato.com/api/v2.1/cuisines', headers =headers, params=params)\n",
    "cuisine_type=response.json()\n",
    "for i in cuisine_type['cuisines']:\n",
    "    if i['cuisine']['cuisine_name']=='Mexican':\n",
    "        print('Cuisine ID for Mexican style:',i['cuisine']['cuisine_id'])\n"
   ]
  },
  {
   "cell_type": "code",
   "execution_count": 3,
   "metadata": {},
   "outputs": [
    {
     "name": "stdout",
     "output_type": "stream",
     "text": [
      "Entity type: subzone\n",
      "Entity ID: 104\n"
     ]
    }
   ],
   "source": [
    "#fetching entity_id and entity_type of Connaught place\n",
    "params={'query':'Connaught Place'}\n",
    "response = requests.get('https://developers.zomato.com/api/v2.1/locations', headers =headers, params=params)\n",
    "location_details=response.json()\n",
    "for i in location_details['location_suggestions']:\n",
    "    for key, val in i.items():\n",
    "        if key=='entity_type':\n",
    "            print('Entity type:',val)\n",
    "        if key=='entity_id':\n",
    "            print('Entity ID:', val)\n"
   ]
  },
  {
   "cell_type": "code",
   "execution_count": 4,
   "metadata": {
    "scrolled": false
   },
   "outputs": [
    {
     "name": "stdout",
     "output_type": "stream",
     "text": [
      "Restaurant name: Chili's Grill & Bar\n",
      "Restaurant rating: 4.6\n",
      "Restaurant ID: 18537536\n",
      "\n",
      "Restaurant name: Farzi Cafe\n",
      "Restaurant rating: 4.5\n",
      "Restaurant ID: 18233593\n",
      "\n",
      "Restaurant name: Ministry Of Beer\n",
      "Restaurant rating: 4.3\n",
      "Restaurant ID: 18418277\n",
      "\n",
      "Restaurant name: Xero Degrees\n",
      "Restaurant rating: 4.3\n",
      "Restaurant ID: 18729557\n",
      "\n",
      "Restaurant name: Unplugged Courtyard\n",
      "Restaurant rating: 4.2\n",
      "Restaurant ID: 18216901\n",
      "\n",
      "Restaurant name: The Beer Cafe - BIGGIE\n",
      "Restaurant rating: 4.2\n",
      "Restaurant ID: 307060\n",
      "\n",
      "Restaurant name: Rodeo Cantina & Kitchen\n",
      "Restaurant rating: 4.1\n",
      "Restaurant ID: 18673403\n",
      "\n",
      "Restaurant name: 38 Barracks\n",
      "Restaurant rating: 4.1\n",
      "Restaurant ID: 18241537\n",
      "\n",
      "Restaurant name: Kinbuck 2\n",
      "Restaurant rating: 4.1\n",
      "Restaurant ID: 309586\n",
      "\n",
      "Restaurant name: Pebble Street\n",
      "Restaurant rating: 4.1\n",
      "Restaurant ID: 309859\n",
      "\n"
     ]
    }
   ],
   "source": [
    "#fetching data of the Best 10 restaurants in Connaught Place serving mexican cuisine\n",
    "#here we are fetching restaurant name, user rating, and restaurant id\n",
    "params={'count': 10, 'entity_id': 104, 'entity_type':'subzone', 'cuisines': 73, 'sort': 'rating', 'order': 'desc'}\n",
    "response= requests.get('https://developers.zomato.com/api/v2.1/search', headers=headers, params=params)\n",
    "details=response.json()\n",
    "for i in details['restaurants']:\n",
    "    print('Restaurant name:',i['restaurant']['name'])\n",
    "    print('Restaurant rating:',i['restaurant']['user_rating']['aggregate_rating'])\n",
    "    print('Restaurant ID:',i['restaurant']['id'])\n",
    "    print()"
   ]
  },
  {
   "cell_type": "code",
   "execution_count": 5,
   "metadata": {},
   "outputs": [
    {
     "name": "stdout",
     "output_type": "stream",
     "text": [
      "Categorical ID for Cafes: 6\n"
     ]
    }
   ],
   "source": [
    "#fetching category id of restaurant category type 'cafes'\n",
    "response= requests.get('https://developers.zomato.com/api/v2.1/categories', headers=headers)\n",
    "categories=response.json()\n",
    "for i in categories['categories']:\n",
    "    if i['categories']['name']=='Cafes':\n",
    "        print('Categorical ID for Cafes:',i['categories']['id'])\n"
   ]
  },
  {
   "cell_type": "code",
   "execution_count": 6,
   "metadata": {},
   "outputs": [
    {
     "name": "stdout",
     "output_type": "stream",
     "text": [
      "Restaurant name: Xero Degrees\n",
      "Restaurant rating: 4.3\n",
      "restaurant ID: 18729557\n",
      "\n",
      "Restaurant name: The Art House Bar n Cafe\n",
      "Restaurant rating: 3.9\n",
      "restaurant ID: 18863766\n",
      "\n",
      "Restaurant name: Cafe Delhi Heights\n",
      "Restaurant rating: 3.8\n",
      "restaurant ID: 18579363\n",
      "\n",
      "Restaurant name: Cafe Coffee Day - The Square\n",
      "Restaurant rating: 3.5\n",
      "restaurant ID: 303034\n",
      "\n"
     ]
    }
   ],
   "source": [
    "#fetching data of best cafes in Connaught Place serving mexican cuisine (cuisine id of mexican cuisine as found from above is 73)\n",
    "params={'count': 10, 'entity_id': 104, 'entity_type':'subzone', 'cuisines': 73, 'sort': 'rating', 'order': 'desc', 'category':6}\n",
    "response= requests.get('https://developers.zomato.com/api/v2.1/search', headers=headers, params=params)\n",
    "details=response.json()\n",
    "for i in details['restaurants']:\n",
    "    print('Restaurant name:',i['restaurant']['name'])\n",
    "    print('Restaurant rating:',i['restaurant']['user_rating']['aggregate_rating'])\n",
    "    print('restaurant ID:',i['restaurant']['id'])\n",
    "    print()\n"
   ]
  },
  {
   "cell_type": "code",
   "execution_count": 7,
   "metadata": {},
   "outputs": [
    {
     "name": "stdout",
     "output_type": "stream",
     "text": [
      "Name of customer: FooodTour\n",
      "Rating : 5\n",
      "Review : So My Friends and i wanted to explore something New in Connaught Place and Landed to Xero degree, when it was just open back an year or something. it was so amazing that we were a regular visitor.   the food is so GOOD and so is the AMBIANCE.  just the space is bit small. it is a must visit place  regards  FooodTour_\n",
      "\n",
      "Name of customer: Rishabh Goswami\n",
      "Rating : 5\n",
      "Review : I went to xero degrees and had a chocolate shake, cheese fries, burger platter, pizza in jar and virgin mojito. Trust me it tastes as delicious as it looks, I felt overwhelmed after eating that, so delightful. The service was amazing. Wanna go there again.\n",
      "\n",
      "Name of customer: Nikk\n",
      "Rating : 5\n",
      "Review : Cheesey fries are amazing here . ... These tower drinks are also taty ...  Jar pizaa is not that great at times as the bread can be a lill soggy ... But this place is very affordable and amazing small little eatery in cp .. dis is a usual place I go to once the cp random walks are over .\n",
      "\n",
      "Name of customer: Aparna Sharma\n",
      "Rating : 5\n",
      "Review : Peri peri cheese fries were damn good! Generally good for takeaway.\n",
      "\n",
      "Name of customer: Kanika Jain\n",
      "Rating : 5\n",
      "Review : The food was very delicious. Peri peri fries are too yummy😍\n",
      "\n"
     ]
    }
   ],
   "source": [
    "#fetching the user name, ratings and review text of the best cafe in Connaught Place serving mexican cuisine('Xero Degrees')\n",
    "params={'res_id':18729557, 'count':5} \n",
    "response= requests.get('https://developers.zomato.com/api/v2.1/reviews', headers=headers, params=params)       \n",
    "for j in response.json()['user_reviews']:\n",
    "    for key, val in j.items():\n",
    "        print('Name of customer:',val['user']['name'])\n",
    "        print('Rating :',val['rating'])\n",
    "        print('Review :',val['review_text'])\n",
    "    print()\n"
   ]
  },
  {
   "cell_type": "markdown",
   "metadata": {},
   "source": [
    "### Using the code above, it was possible to analyse data related to Mexican cuisine served in restaurants of Connaught Place, Delhi using Zomato API. It was possible to procure the ID saved for Mexican Cuisine on the Zomato database as well as the code by which data of various Cafes could be accessed. It was also possible to point out the top 10 restaurants at Connaught Place serving Mexican Cuisine, as well as the latest reviews and ratings made on the best cafe in Connaught Place serving Mexican Cuisine."
   ]
  },
  {
   "cell_type": "markdown",
   "metadata": {},
   "source": [
    "# 2. Fetching restaurant related data"
   ]
  },
  {
   "cell_type": "code",
   "execution_count": 8,
   "metadata": {},
   "outputs": [
    {
     "name": "stdout",
     "output_type": "stream",
     "text": [
      "Details of Restaurant 736 A.D:\n",
      "Rating: 3.9\n",
      "Average cost for two: 1400\n",
      "Cuisine styles served: North Indian, Continental, Italian, Chinese\n",
      "Address: G-15/B, Vijay Nagar, New Delhi\n"
     ]
    }
   ],
   "source": [
    "#Restaurant 736 A.D at Delhi is the restaurant whose data is being fetched here\n",
    "#Here, we are fetching data regarding average rating, average cost for 2 people, type of cuisines served as well as the restaurant location\n",
    "headers={'user-key' : 'User-Key', \"Accept\": \"application/json\", 'User-Agent':'Your name'}\n",
    "params={'res_id':18241524}\n",
    "response = requests.get('https://developers.zomato.com/api/v2.1/restaurant', headers=headers, params=params)\n",
    "print('Details of Restaurant 736 A.D:')\n",
    "print('Rating:',response.json()['user_rating']['aggregate_rating'])\n",
    "print('Average cost for two:',response.json()['average_cost_for_two'])\n",
    "print('Cuisine styles served:',response.json()['cuisines'])\n",
    "print('Address:',response.json()['location']['address'])\n"
   ]
  },
  {
   "cell_type": "code",
   "execution_count": 9,
   "metadata": {},
   "outputs": [
    {
     "name": "stdout",
     "output_type": "stream",
     "text": [
      "Name of customer: Arpit Jain\n",
      "Rating: 3\n",
      "Review: Just a simple average cafe in Gtb nagar locality. This locality is filled with cafes and good restaurants and everyone need to do something unique to atleast stand in the tough market. The best thing is their pizza, which can also be improved with little efforts but apart from that everything was just average. Infact if anyone want to know about the cafe/restaurant order a drink, this will tell you how good a place can be. And this place disappoints me with a simple drink like LIIT in which nothing can be done wrong as the recipe is too simple too follow.\n",
      "\n",
      "Name of customer: Highovermeals\n",
      "Rating: 4\n",
      "Review: I had a very good time regarding the drinks at 736 A.D . It had good soft music with decent ambience but the staff there was a little bit distracted from the work . Well it's just an opinion no personal grudges . You should surely pay a visit to enjoy drinks at genuine rates 🥃\n",
      "\n",
      "Name of customer: Palak Sharma\n",
      "Rating: 4\n",
      "Review: \n",
      "\n",
      "Name of customer: Ankita Sharma | Geographyedible 😎✌️\n",
      "Rating: 5\n",
      "Review: All time favourite place ♥️💝\n",
      "\n",
      "Name of customer: Lavanya Kv\n",
      "Rating: 4\n",
      "Review: \n",
      "\n"
     ]
    }
   ],
   "source": [
    "#fetching data regarding latest reviews, ratings and people who have made the reviews on restaurant 736 AD\n",
    "response = requests.get('https://developers.zomato.com/api/v2.1/reviews', headers=headers, params=params)\n",
    "for i in response.json()['user_reviews']:\n",
    "    for j in i.values():\n",
    "        print ('Name of customer:',j['user']['name'])\n",
    "        print ('Rating:',j['rating'])\n",
    "        print('Review:', j['review_text'])\n",
    "        print()"
   ]
  },
  {
   "cell_type": "markdown",
   "metadata": {},
   "source": [
    "### As shown above, it was possible to procure data regarding a particular restaurant by just using its restaurant ID with Zomato API."
   ]
  },
  {
   "cell_type": "markdown",
   "metadata": {},
   "source": [
    "# 3. Fetching data taking into factor the distance between places"
   ]
  },
  {
   "cell_type": "code",
   "execution_count": 10,
   "metadata": {},
   "outputs": [
    {
     "name": "stdout",
     "output_type": "stream",
     "text": [
      "Cuisine ID for BBQ style: 193\n"
     ]
    }
   ],
   "source": [
    "#for now we are fetching cuisine ID regarding BBQ in delhi\n",
    "params={'city_id':1}\n",
    "response = requests.get('https://developers.zomato.com/api/v2.1/cuisines', headers =headers, params=params)\n",
    "for i in response.json()['cuisines']:\n",
    "    if i['cuisine']['cuisine_name']=='BBQ':\n",
    "        print('Cuisine ID for BBQ style:',i['cuisine']['cuisine_id'])"
   ]
  },
  {
   "cell_type": "code",
   "execution_count": 11,
   "metadata": {
    "scrolled": false
   },
   "outputs": [
    {
     "name": "stdout",
     "output_type": "stream",
     "text": [
      "Restaurant Name: Themis Barbecue House\n",
      "Restaurant rating: 4.2\n",
      "Restaurant ID: 18204820\n",
      "Restaurant Locality: Netaji Subhash Place\n",
      "\n",
      "Restaurant Name: Barbeque Nation\n",
      "Restaurant rating: 4.5\n",
      "Restaurant ID: 9561\n",
      "Restaurant Locality: Netaji Subhash Place\n",
      "\n",
      "Restaurant Name: New Bombay Bar-Be-Que\n",
      "Restaurant rating: 3.5\n",
      "Restaurant ID: 5303\n",
      "Restaurant Locality: Prashant Vihar\n",
      "\n",
      "Restaurant Name: Amazings Kitchen\n",
      "Restaurant rating: 0\n",
      "Restaurant ID: 19370424\n",
      "Restaurant Locality: Prashant Vihar\n",
      "\n",
      "Restaurant Name: Moet's Barbeque\n",
      "Restaurant rating: 0\n",
      "Restaurant ID: 19238917\n",
      "Restaurant Locality: Alipur\n",
      "\n",
      "Restaurant Name: UBQ by Barbeque Nation\n",
      "Restaurant rating: 3.2\n",
      "Restaurant ID: 18889760\n",
      "Restaurant Locality: Rohini\n",
      "\n",
      "Restaurant Name: Kays Bar-Be-Que\n",
      "Restaurant rating: 3.9\n",
      "Restaurant ID: 3079\n",
      "Restaurant Locality: Ashok Vihar Phase 1\n",
      "\n",
      "Restaurant Name: Chicken Adda\n",
      "Restaurant rating: 0\n",
      "Restaurant ID: 19179179\n",
      "Restaurant Locality: Rohini\n",
      "\n",
      "Restaurant Name: 7teen BBQ Bistro Bnq\n",
      "Restaurant rating: 3.9\n",
      "Restaurant ID: 18595610\n",
      "Restaurant Locality: Moti Nagar\n",
      "\n",
      "Restaurant Name: Pishori Chicken\n",
      "Restaurant rating: 0\n",
      "Restaurant ID: 19061375\n",
      "Restaurant Locality: Kirti Nagar\n",
      "\n"
     ]
    }
   ],
   "source": [
    "#now we are fetching data regarding the top 10 restaurants serving BBQ cuisine near Coding Ninjas Headquarters\n",
    "params={'count': 10, 'entity_id': 1, 'entity_type':'city', 'lat':28.6977, 'lon':77.1406, 'cuisines': 193, 'sort': 'real_distance', 'order': 'asc'}\n",
    "response= requests.get('https://developers.zomato.com/api/v2.1/search', headers=headers, params=params)\n",
    "for i in response.json()['restaurants']:\n",
    "    print('Restaurant Name:',i['restaurant']['name'])\n",
    "    print('Restaurant rating:',i['restaurant']['user_rating']['aggregate_rating'])\n",
    "    print('Restaurant ID:',i['restaurant']['id'])\n",
    "    print('Restaurant Locality:',i['restaurant']['location']['locality'])\n",
    "    print()"
   ]
  },
  {
   "cell_type": "code",
   "execution_count": 12,
   "metadata": {
    "scrolled": false
   },
   "outputs": [
    {
     "name": "stdout",
     "output_type": "stream",
     "text": [
      "Name of customer: Sakshi Sabnani\n",
      "Rating: 4\n",
      "Review: We organized a get together here..ambiance and drinks was good but the food was not upto the mark but if you are going for dine out the food is good..maybe they weren't able to cater the party well.\n",
      "\n",
      "Name of customer: ANNANT VASHIST\n",
      "Rating: 5\n",
      "Review: I celebrated my bday in Themis barbecue . I enjoyed a lot and the staff was really good nd the food is very delicious .\n",
      "\n",
      "Name of customer: Sangeeta Kalita (thatcravingfoodie)\n",
      "Rating: 4\n",
      "Review: Visited them last month. On entering, you realise that the indoor seating area is not that spacious. I wanted to be seated outdoors, but then it's only allowed for dinner time. I wasn't very taken by the ambiance.  Coming to the food, I opted for the non-vegetarian buffet option. For drinks, I chose a litchi based mocktail. You could also go for beer or whisky which I think I should have chosen too, now that I think of it. But there's no use crying over spilled milk now. So coming back to my litchi mocktail, let me say it was awesome. Tart and sweet and zingy. Was a pleasant accompaniment to the starters. I really liked the chilly fish, chicken tikka, crispy corn. Cajun potatoes lacked that kick and mutton seekh was really dry. The paneer tikka too wasn't flavourful enough. And the pizza base was very tough.  The main course was so delicious. I am a manchow soup lover. And I helped myself to bowls of the veg manchow soup. Then I came across chicken hot and sour soup and gobbled that up too. I also tried different salads I think you could and should skip them. The chicken biryani and mutton rogan josh warmed up my soul with their distinctly spiced flavours. The biryani deserves special mention with the overwhelming aroma of whole spices and chunky chicken pieces. The rogan josh curry was hot and spicy and I was satisfied then and there. Nevertheless, greed occupied me again while going through other dishes and this time I helped myself to hakka chowmein and stir fried veggies in basil chilly sauce (yeah it's veg. Don't be surprised). The veggie gravy was utterly savoury and had so much going on. Sweet, sour, salty, that fresh basil hit. And by then I realised I was almost full and had to end my main course eating spree.  Coming to desserts, gulab jamuns were soul warming. The chocolate pastry was lush and bitter and kept me wanting more. The tarts were creamy and crumbley. Delicious. Moong dal halwa was all ghee and nuts and heavenly. And the strawberry ice cream was creamy and screamed fresh strawberries and not the artificial colour and flavour stuff.  Overall, it was a decent experience. Although I think cutting out the live music part during afternoons wouldn't be a bad idea afterall. It felt kinda loud and claustrophobic. The service was not bad. The prices were moderate. I paid 1300+ for two non-veg lunch buffets.\n",
      "\n",
      "Name of customer: Medhavi\n",
      "Rating: 5\n",
      "Review: Enjoyed a wide range of dishes at this buffet outlet with aesthetic interiors and designer exteriors. Scrumptious barbeque starters with grilled chicken,fish tikka in skewers on the table. Sipped on a variety of mocktails plus the singer was there to entertain throughout our time there. The main course dishes were made very well with excellent sea food, dum biryani , paneer dishes, types of breads and exquisite desserts to choose from namely white chocolate brownie , pineapple pastries , truffle cake and cut fruits. Would definitely recommend to one and all.\n",
      "\n",
      "Name of customer: Piyush Matreja\n",
      "Rating: 5\n",
      "Review: Live singing, spectacular ambience and every one enjoying to the grilled kebabs on their table, that's Themis barbeque all about. Based on the concept of buffet where you start with snacks on the table with cool mocktails. I tried the lemon ice tea and charred prawns tikka as well as chicken malai tikka ,their non veg starters were great. Main course I had mutton rogan josh with lachha parantha and enjoyed a few of my favourite desserts namely strawberry tarts and a chocolate truffle cake with cherries. I must say that was a good lunch I relished after long.\n",
      "\n"
     ]
    }
   ],
   "source": [
    "#out of the above restaurants, Themis Barbecue House is the nearest.\n",
    "#Now let us find the latest reviews, rating per user and what they had to say about the restaurant\n",
    "params={'res_id':18204820, 'count':5}\n",
    "response= requests.get('https://developers.zomato.com/api/v2.1/reviews', headers=headers, params=params)\n",
    "for i in response.json()['user_reviews']:\n",
    "    print('Name of customer:',i['review']['user']['name'])\n",
    "    print('Rating:',i['review']['rating']) \n",
    "    print('Review:',i['review']['review_text'])\n",
    "    print()\n"
   ]
  },
  {
   "cell_type": "code",
   "execution_count": 13,
   "metadata": {},
   "outputs": [
    {
     "name": "stdout",
     "output_type": "stream",
     "text": [
      "Name of restaurant: Pa Pa Ya\n",
      "Restaurant rating: 4.9\n",
      "Restaurant ID: 18429148\n",
      "Restaurant Locality: Select Citywalk Mall, Saket\n",
      "\n",
      "Name of restaurant: The Big Chill\n",
      "Restaurant rating: 4.9\n",
      "Restaurant ID: 8244\n",
      "Restaurant Locality: Khan Market\n",
      "\n",
      "Name of restaurant: Indian Accent\n",
      "Restaurant rating: 4.9\n",
      "Restaurant ID: 2004\n",
      "Restaurant Locality: The Lodhi, Lodhi Road\n",
      "\n",
      "Name of restaurant: Dum-Pukht - ITC Maurya\n",
      "Restaurant rating: 4.9\n",
      "Restaurant ID: 2744\n",
      "Restaurant Locality: ITC Maurya, Chanakyapuri\n",
      "\n",
      "Name of restaurant: Kuremal Mohan Lal Kulfi Wale\n",
      "Restaurant rating: 4.9\n",
      "Restaurant ID: 303642\n",
      "Restaurant Locality: Chawri Bazar\n",
      "\n",
      "Name of restaurant: Cafe Lota\n",
      "Restaurant rating: 4.9\n",
      "Restaurant ID: 305525\n",
      "Restaurant Locality: Pragati Maidan\n",
      "\n",
      "Name of restaurant: Carnatic Cafe\n",
      "Restaurant rating: 4.9\n",
      "Restaurant ID: 7843\n",
      "Restaurant Locality: Lodhi Colony\n",
      "\n",
      "Name of restaurant: Cocktails & Dreams, Speakeasy\n",
      "Restaurant rating: 4.9\n",
      "Restaurant ID: 300716\n",
      "Restaurant Locality: Sector 15\n",
      "\n",
      "Name of restaurant: The Big Chill Cakery\n",
      "Restaurant rating: 4.8\n",
      "Restaurant ID: 18665943\n",
      "Restaurant Locality: Khan Market\n",
      "\n",
      "Name of restaurant: The Big Chill\n",
      "Restaurant rating: 4.8\n",
      "Restaurant ID: 3190\n",
      "Restaurant Locality: Kailash Colony\n",
      "\n"
     ]
    }
   ],
   "source": [
    "# fetching data regarding the top 10 best restaurants in a 4 km radius around the Coding Ninjas HQ\n",
    "import requests\n",
    "import json\n",
    "headers={'user-key' : '60990ceb48728f96adae338b4345bd1d', \"Accept\": \"application/json\", 'User-Agent':'Gokul Harinair'}\n",
    "params={'count': 10, 'radius': 4000, 'entity_id': 1, 'entity_type':'city', 'lat':28.6977, 'lon':77.1406, 'sort': 'rating', 'order': 'desc'}\n",
    "response= requests.get('https://developers.zomato.com/api/v2.1/search', headers=headers, params=params)\n",
    "for i in response.json()['restaurants']:\n",
    "    print('Name of restaurant:', i['restaurant']['name'])\n",
    "    print('Restaurant rating:',i['restaurant']['user_rating']['aggregate_rating'])\n",
    "    print('Restaurant ID:',i['restaurant']['id'])\n",
    "    print('Restaurant Locality:',i['restaurant']['location']['locality'])\n",
    "    print()"
   ]
  },
  {
   "cell_type": "markdown",
   "metadata": {},
   "source": [
    "### As shown, it was possible to obtain data regarding the best restaurants close to a particular area, the cuisines they serves, their average costs for 2 people, as well as how other customers of these restaurants felt about the food served by these restaurants"
   ]
  },
  {
   "cell_type": "code",
   "execution_count": null,
   "metadata": {},
   "outputs": [],
   "source": []
  }
 ],
 "metadata": {
  "kernelspec": {
   "display_name": "Python 3",
   "language": "python",
   "name": "python3"
  },
  "language_info": {
   "codemirror_mode": {
    "name": "ipython",
    "version": 3
   },
   "file_extension": ".py",
   "mimetype": "text/x-python",
   "name": "python",
   "nbconvert_exporter": "python",
   "pygments_lexer": "ipython3",
   "version": "3.7.4"
  }
 },
 "nbformat": 4,
 "nbformat_minor": 2
}
